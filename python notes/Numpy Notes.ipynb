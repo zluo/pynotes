{
 "cells": [
  {
   "cell_type": "markdown",
   "metadata": {},
   "source": [
    "\n",
    "\n",
    "## Numpy Notes\n",
    "\n",
    "### 1. Basic\n",
    "\n",
    "#### <span style=\"color:orange\">1.1 ndarray</span>\n",
    "numpy array is an object of ndarray"
   ]
  },
  {
   "cell_type": "code",
   "execution_count": 1,
   "metadata": {
    "collapsed": false
   },
   "outputs": [
    {
     "data": {
      "text/plain": [
       "numpy.ndarray"
      ]
     },
     "execution_count": 1,
     "metadata": {},
     "output_type": "execute_result"
    }
   ],
   "source": [
    "import numpy as np\n",
    "a = np.arange(15).reshape(3,5)\n",
    "type(a)"
   ]
  },
  {
   "cell_type": "markdown",
   "metadata": {},
   "source": [
    "| Attribute | Description          \n",
    "| :- |:------------- |\n",
    "|ndarray.ndim| The number of axes(dimensions).\n",
    "|ndarray.shapes |A tuple indicate the size of each dimensions\n",
    "|ndarray.size |total number of elements\n",
    "|ndarray.dtype| type of elements\n",
    "|ndarray.itemsize | equivelent to ndarray.dtype.itemsize"
   ]
  },
  {
   "cell_type": "code",
   "execution_count": 7,
   "metadata": {
    "collapsed": false
   },
   "outputs": [
    {
     "name": "stdout",
     "output_type": "stream",
     "text": [
      "dim  2\n",
      "size (3, 5)\n",
      "dtype int32\n",
      "itemsize 4\n"
     ]
    }
   ],
   "source": [
    "print(\"dim \", a.ndim)\n",
    "print ('size', a.shape)\n",
    "print('dtype', a.dtype)\n",
    "print('itemsize', a.itemsize)"
   ]
  },
  {
   "cell_type": "markdown",
   "metadata": {},
   "source": [
    "## 1.2 Array Creation\n",
    "### 1.2.1 Create array from python list or tuple"
   ]
  },
  {
   "cell_type": "code",
   "execution_count": 23,
   "metadata": {
    "collapsed": false,
    "scrolled": false
   },
   "outputs": [
    {
     "name": "stdout",
     "output_type": "stream",
     "text": [
      "\n",
      "np.array([2,3,4]) --> [2 3 4]\n",
      "\n",
      "np.array([(1,2,3),(2,3,4)]) -->\n",
      " [[1 2 3]\n",
      " [2 3 4]]\n",
      "\n",
      "np.array([[1,2],[3,4]], dtype = 'complex') -->\n",
      " [[ 1.+0.j  2.+0.j]\n",
      " [ 3.+0.j  4.+0.j]]\n"
     ]
    }
   ],
   "source": [
    "a = np.array([2,3,4])\n",
    "b = np.array([(1,2,3),(2,3,4)])\n",
    "c = np.array([[1,2],[3,4]], dtype = 'complex')\n",
    "\n",
    "print ('\\nnp.array([2,3,4]) -->', a)\n",
    "print ('\\nnp.array([(1,2,3),(2,3,4)]) -->\\n', b)\n",
    "print (\"\\nnp.array([[1,2],[3,4]], dtype = 'complex') -->\\n\", c)"
   ]
  },
  {
   "cell_type": "markdown",
   "metadata": {},
   "source": [
    "### 1.2.2 Create zero and one arrays"
   ]
  },
  {
   "cell_type": "code",
   "execution_count": 24,
   "metadata": {
    "collapsed": false
   },
   "outputs": [
    {
     "data": {
      "text/plain": [
       "array([[ 0.,  0.,  0.,  0.],\n",
       "       [ 0.,  0.,  0.,  0.],\n",
       "       [ 0.,  0.,  0.,  0.]])"
      ]
     },
     "execution_count": 24,
     "metadata": {},
     "output_type": "execute_result"
    }
   ],
   "source": [
    "np.zeros((3,4))"
   ]
  },
  {
   "cell_type": "code",
   "execution_count": 26,
   "metadata": {
    "collapsed": false
   },
   "outputs": [
    {
     "data": {
      "text/plain": [
       "array([[[ 1.,  1.,  1.,  1.],\n",
       "        [ 1.,  1.,  1.,  1.],\n",
       "        [ 1.,  1.,  1.,  1.]],\n",
       "\n",
       "       [[ 1.,  1.,  1.,  1.],\n",
       "        [ 1.,  1.,  1.,  1.],\n",
       "        [ 1.,  1.,  1.,  1.]]])"
      ]
     },
     "execution_count": 26,
     "metadata": {},
     "output_type": "execute_result"
    }
   ],
   "source": [
    "np.ones((2,3,4))"
   ]
  },
  {
   "cell_type": "code",
   "execution_count": 4,
   "metadata": {
    "collapsed": false
   },
   "outputs": [
    {
     "data": {
      "text/plain": [
       "array([[ 0.39077589,  0.18725504,  0.14236906],\n",
       "       [ 0.56133714,  0.39402669,  0.82799433]])"
      ]
     },
     "execution_count": 4,
     "metadata": {},
     "output_type": "execute_result"
    }
   ],
   "source": [
    "np.random.random((2,3))"
   ]
  },
  {
   "cell_type": "code",
   "execution_count": 5,
   "metadata": {
    "collapsed": false
   },
   "outputs": [
    {
     "data": {
      "text/plain": [
       "array([[ 0.,  0.,  0.],\n",
       "       [ 0.,  0.,  0.]])"
      ]
     },
     "execution_count": 5,
     "metadata": {},
     "output_type": "execute_result"
    }
   ],
   "source": [
    "np.empty((2,3))"
   ]
  },
  {
   "cell_type": "markdown",
   "metadata": {},
   "source": [
    "### 1.2.3 arange"
   ]
  },
  {
   "cell_type": "code",
   "execution_count": 27,
   "metadata": {
    "collapsed": false
   },
   "outputs": [
    {
     "data": {
      "text/plain": [
       "array([10, 15, 20, 25])"
      ]
     },
     "execution_count": 27,
     "metadata": {},
     "output_type": "execute_result"
    }
   ],
   "source": [
    "np.arange(10,30,5)"
   ]
  },
  {
   "cell_type": "code",
   "execution_count": 29,
   "metadata": {
    "collapsed": false
   },
   "outputs": [
    {
     "data": {
      "text/plain": [
       "array([ 0. ,  0.3,  0.6,  0.9,  1.2,  1.5,  1.8])"
      ]
     },
     "execution_count": 29,
     "metadata": {},
     "output_type": "execute_result"
    }
   ],
   "source": [
    "np.arange(0,2,0.3)"
   ]
  },
  {
   "cell_type": "markdown",
   "metadata": {},
   "source": [
    "### 1.2.4 reshape\n"
   ]
  },
  {
   "cell_type": "code",
   "execution_count": 31,
   "metadata": {
    "collapsed": false,
    "scrolled": true
   },
   "outputs": [
    {
     "data": {
      "text/plain": [
       "array([[ 0,  1,  2],\n",
       "       [ 3,  4,  5],\n",
       "       [ 6,  7,  8],\n",
       "       [ 9, 10, 11]])"
      ]
     },
     "execution_count": 31,
     "metadata": {},
     "output_type": "execute_result"
    }
   ],
   "source": [
    "np.arange(12).reshape(4,3)"
   ]
  },
  {
   "cell_type": "code",
   "execution_count": 11,
   "metadata": {
    "collapsed": false
   },
   "outputs": [
    {
     "data": {
      "text/plain": [
       "array([[ 6,  7],\n",
       "       [ 8,  9],\n",
       "       [10, 11]])"
      ]
     },
     "execution_count": 11,
     "metadata": {},
     "output_type": "execute_result"
    }
   ],
   "source": [
    "ra = np.arange(6,12)\n",
    "ra1 = ra.reshape(2,3)\n",
    "ra1\n",
    "ra1.reshape(3,2)"
   ]
  },
  {
   "cell_type": "markdown",
   "metadata": {},
   "source": [
    "## 1.3 Basic Operations "
   ]
  },
  {
   "cell_type": "markdown",
   "metadata": {},
   "source": [
    "### Accessing array elements"
   ]
  },
  {
   "cell_type": "code",
   "execution_count": 12,
   "metadata": {
    "collapsed": false
   },
   "outputs": [
    {
     "name": "stdout",
     "output_type": "stream",
     "text": [
      "7\n"
     ]
    }
   ],
   "source": [
    "print ra1[0,1]"
   ]
  },
  {
   "cell_type": "code",
   "execution_count": 20,
   "metadata": {
    "collapsed": false
   },
   "outputs": [
    {
     "name": "stdout",
     "output_type": "stream",
     "text": [
      "[[1 2]\n",
      " [4 5]]\n",
      "[1 2 3]\n",
      "[2]\n",
      "3\n"
     ]
    }
   ],
   "source": [
    "squareArray = np.arange(1,10).reshape(3,3)\n",
    "print squareArray[0:2,0:2]\n",
    "print squareArray[0]\n",
    "print squareArray[0, 1:2]\n",
    "print squareArray[0,2]"
   ]
  },
  {
   "cell_type": "code",
   "execution_count": null,
   "metadata": {
    "collapsed": true
   },
   "outputs": [],
   "source": [
    "# set last row to ones\n",
    "squareArray[2] =1\n",
    "print squareArray"
   ]
  },
  {
   "cell_type": "markdown",
   "metadata": {},
   "source": [
    "### Operations"
   ]
  },
  {
   "cell_type": "code",
   "execution_count": 40,
   "metadata": {
    "collapsed": false
   },
   "outputs": [
    {
     "name": "stdout",
     "output_type": "stream",
     "text": [
      "a: \t [20 30 40 50]\n",
      "b: \t [0 1 2 3]\n",
      "a-b: \t [20 29 38 47]\n",
      "a*b: \t [  0  30  80 150]\n"
     ]
    }
   ],
   "source": [
    "a = np.array([20,30,40,50])\n",
    "b = np.arange(4)\n",
    "print('a: \\t', a)\n",
    "print('b: \\t', b)\n",
    "print('a-b: \\t', a -b)\n",
    "print ('a*b: \\t', a*b)\n",
    "print('10*np.sin(a):', 10*np.sin(a))"
   ]
  },
  {
   "cell_type": "code",
   "execution_count": 26,
   "metadata": {
    "collapsed": false
   },
   "outputs": [
    {
     "name": "stdout",
     "output_type": "stream",
     "text": [
      "Average:  2.66666666667\n",
      "Standard deviation:  1.82574185835\n"
     ]
    }
   ],
   "source": [
    "# average\n",
    "print 'Average: ', np.average(squareArray)\n",
    "print 'Standard deviation: ', np.std(squareArray)\n",
    "\n",
    "#"
   ]
  },
  {
   "cell_type": "code",
   "execution_count": 45,
   "metadata": {
    "collapsed": false
   },
   "outputs": [
    {
     "name": "stdout",
     "output_type": "stream",
     "text": [
      "Better Than Average:  [[False False False]\n",
      " [False False  True]\n",
      " [ True  True  True]]\n",
      "Index of BetterThanAverage:  [6 7 8 9]\n",
      "Average:  5.0\n",
      "Standard Deviation:  2.58198889747\n",
      "[[ 1.  2.  3.]\n",
      " [ 4.  5.  6.]\n",
      " [ 7.  8.  9.]]\n",
      "[[ 1.         2.         3.       ]\n",
      " [ 4.         5.         6.       ]\n",
      " [ 7.         7.5819889  7.5819889]]\n"
     ]
    }
   ],
   "source": [
    "squareArray = np.arange(1,10).reshape(3,3)\n",
    "sqAverage = np.average(squareArray)\n",
    "\n",
    "betterThanAverage = squareArray > sqAverage\n",
    "print 'Better Than Average: ',  betterThanAverage\n",
    "\n",
    "print 'Index of BetterThanAverage: ' , squareArray[betterThanAverage]\n",
    "\n",
    "print 'Average: ', sqAverage\n",
    "sqStdDev = np.std(squareArray)\n",
    "print 'Standard Deviation: ', sqStdDev\n",
    "clampedSqArray = np.array(squareArray.copy(), dtype=float)\n",
    "print clampedSqArray\n",
    "\n",
    "clampedSqArray[(squareArray-sqAverage) > sqStdDev] = sqAverage + sqStdDev\n",
    "#calampedSqArray[(squareArray-sqAverage) < -sqStdDev] = sqAverage -sqStDev\n",
    "print clampedSqArray"
   ]
  },
  {
   "cell_type": "code",
   "execution_count": null,
   "metadata": {
    "collapsed": true
   },
   "outputs": [],
   "source": []
  },
  {
   "cell_type": "markdown",
   "metadata": {
    "collapsed": true
   },
   "source": [
    "# Questions\n",
    "\n",
    "## Q1. How many ways to get a column of array?\n",
    "\n",
    "\n"
   ]
  },
  {
   "cell_type": "code",
   "execution_count": 8,
   "metadata": {
    "collapsed": false
   },
   "outputs": [
    {
     "name": "stdout",
     "output_type": "stream",
     "text": [
      "[[ 0  1  2]\n",
      " [ 3  4  5]\n",
      " [ 6  7  8]\n",
      " [ 9 10 11]]\n",
      "\n",
      "Get column 1, Method 1: a[:, 1]\n",
      "[ 1  4  7 10]\n",
      "Get column 1, Method 2: list extension\n",
      "[1, 4, 7, 10]\n"
     ]
    }
   ],
   "source": [
    " #Create a array, Get Column 1 as a list\n",
    "a = np.arange(12).reshape(4,3)\n",
    "print(a)\n",
    "print\n",
    "print (\"Get column 1, Method 1: a[:, 1]\")\n",
    "\n",
    "print (a[:,1])\n",
    "\n",
    "print (\"Get column 1, Method 2: list extension\")\n",
    "b = [example[1] for example in a]\n",
    "print (b)"
   ]
  },
  {
   "cell_type": "markdown",
   "metadata": {
    "collapsed": true
   },
   "source": [
    "### numpy.where\n",
    "\n",
    "first parameter is conditon: if condition is ture, choose value from x, else choose value from y\n",
    "\n",
    "if without x, y return idexes of True"
   ]
  },
  {
   "cell_type": "code",
   "execution_count": 2,
   "metadata": {
    "collapsed": false
   },
   "outputs": [
    {
     "data": {
      "text/plain": [
       "array([[1, 8],\n",
       "       [3, 4]])"
      ]
     },
     "execution_count": 2,
     "metadata": {},
     "output_type": "execute_result"
    }
   ],
   "source": [
    "import numpy as np\n",
    "np.where([[True,False],[True,True]], [[1,2],[3,4]],[[9,8],[7,6]])"
   ]
  },
  {
   "cell_type": "code",
   "execution_count": 9,
   "metadata": {
    "collapsed": false
   },
   "outputs": [
    {
     "data": {
      "text/plain": [
       "array([[0, 1, 2],\n",
       "       [3, 4, 5],\n",
       "       [6, 7, 8]])"
      ]
     },
     "execution_count": 9,
     "metadata": {},
     "output_type": "execute_result"
    }
   ],
   "source": [
    "x=np.arange(9).reshape(3,3)\n",
    "x"
   ]
  },
  {
   "cell_type": "code",
   "execution_count": 8,
   "metadata": {
    "collapsed": false
   },
   "outputs": [
    {
     "data": {
      "text/plain": [
       "(array([2, 2, 2], dtype=int64), array([0, 1, 2], dtype=int64))"
      ]
     },
     "execution_count": 8,
     "metadata": {},
     "output_type": "execute_result"
    }
   ],
   "source": [
    "np.where(x>5)"
   ]
  },
  {
   "cell_type": "code",
   "execution_count": 10,
   "metadata": {
    "collapsed": false
   },
   "outputs": [
    {
     "data": {
      "text/plain": [
       "array([[0, 1, 2],\n",
       "       [3, 4, 5],\n",
       "       [6, 7, 8]])"
      ]
     },
     "execution_count": 10,
     "metadata": {},
     "output_type": "execute_result"
    }
   ],
   "source": [
    "x\n"
   ]
  },
  {
   "cell_type": "code",
   "execution_count": 11,
   "metadata": {
    "collapsed": false
   },
   "outputs": [
    {
     "data": {
      "text/plain": [
       "array([[False, False, False],\n",
       "       [False, False, False],\n",
       "       [ True,  True,  True]], dtype=bool)"
      ]
     },
     "execution_count": 11,
     "metadata": {},
     "output_type": "execute_result"
    }
   ],
   "source": [
    "x >5"
   ]
  },
  {
   "cell_type": "code",
   "execution_count": null,
   "metadata": {
    "collapsed": true
   },
   "outputs": [],
   "source": []
  }
 ],
 "metadata": {
  "kernelspec": {
   "display_name": "Python [Root]",
   "language": "python",
   "name": "Python [Root]"
  },
  "language_info": {
   "codemirror_mode": {
    "name": "ipython",
    "version": 2
   },
   "file_extension": ".py",
   "mimetype": "text/x-python",
   "name": "python",
   "nbconvert_exporter": "python",
   "pygments_lexer": "ipython2",
   "version": "2.7.12"
  }
 },
 "nbformat": 4,
 "nbformat_minor": 0
}
