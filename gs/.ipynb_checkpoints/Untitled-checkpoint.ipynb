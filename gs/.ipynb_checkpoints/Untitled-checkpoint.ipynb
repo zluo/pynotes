{
 "cells": [
  {
   "cell_type": "code",
   "execution_count": 2,
   "metadata": {
    "collapsed": false
   },
   "outputs": [
    {
     "name": "stderr",
     "output_type": "stream",
     "text": [
      "C:\\Anaconda2\\lib\\site-packages\\pandas\\io\\data.py:35: FutureWarning: \n",
      "The pandas.io.data module is moved to a separate package (pandas-datareader) and will be removed from pandas in a future version.\n",
      "After installing the pandas-datareader package (https://github.com/pydata/pandas-datareader), you can change the import ``from pandas.io import data, wb`` to ``from pandas_datareader import data, wb``.\n",
      "  FutureWarning)\n"
     ]
    }
   ],
   "source": [
    "### display \n",
    "import datetime\n",
    "import pandas.io.data as web\n",
    "import plotly.plotly as py\n",
    "from plotly.tools import FigureFactory as FF\n",
    "\n",
    "def dl(s,d):\n",
    "    end = datetime.date.today()\n",
    "    days = datetime.timedelta(days=d)\n",
    "    start = end - days\n",
    "    df = web.DataReader(s, 'yahoo', start, end)\n",
    "    return df\n",
    "\n",
    "def cs(df):\n",
    "    fig = FF.create_candlestick(df.Open, df.High, df.Low, df.Close, dates=df.index)\n",
    "    py.iplot(fig, validate=False)\n",
    "     "
   ]
  },
  {
   "cell_type": "code",
   "execution_count": 37,
   "metadata": {
    "collapsed": false
   },
   "outputs": [
    {
     "data": {
      "text/plain": [
       "{'data': [{'boxpoints': False,\n",
       "   'fillcolor': '#3D9970',\n",
       "   'line': {'color': '#3D9970'},\n",
       "   'name': 'Increasing',\n",
       "   'showlegend': False,\n",
       "   'type': 'box',\n",
       "   'whiskerwidth': 0,\n",
       "   'x': [Timestamp('2016-09-01 00:00:00'),\n",
       "    Timestamp('2016-09-01 00:00:00'),\n",
       "    Timestamp('2016-09-01 00:00:00'),\n",
       "    Timestamp('2016-09-01 00:00:00'),\n",
       "    Timestamp('2016-09-01 00:00:00'),\n",
       "    Timestamp('2016-09-01 00:00:00'),\n",
       "    Timestamp('2016-09-02 00:00:00'),\n",
       "    Timestamp('2016-09-02 00:00:00'),\n",
       "    Timestamp('2016-09-02 00:00:00'),\n",
       "    Timestamp('2016-09-02 00:00:00'),\n",
       "    Timestamp('2016-09-02 00:00:00'),\n",
       "    Timestamp('2016-09-02 00:00:00')],\n",
       "   'y': [7.0899999999999999,\n",
       "    7.1799999999999997,\n",
       "    7.3499999999999996,\n",
       "    7.3499999999999996,\n",
       "    7.3499999999999996,\n",
       "    7.4400000000000004,\n",
       "    7.3799999999999999,\n",
       "    7.4900000000000002,\n",
       "    7.5099999999999998,\n",
       "    7.5099999999999998,\n",
       "    7.5099999999999998,\n",
       "    7.6399999999999997]},\n",
       "  {'boxpoints': False,\n",
       "   'fillcolor': '#FF4136',\n",
       "   'line': {'color': '#FF4136'},\n",
       "   'name': 'Decreasing',\n",
       "   'showlegend': False,\n",
       "   'type': 'box',\n",
       "   'whiskerwidth': 0,\n",
       "   'x': [Timestamp('2016-08-29 00:00:00'),\n",
       "    Timestamp('2016-08-29 00:00:00'),\n",
       "    Timestamp('2016-08-29 00:00:00'),\n",
       "    Timestamp('2016-08-29 00:00:00'),\n",
       "    Timestamp('2016-08-29 00:00:00'),\n",
       "    Timestamp('2016-08-29 00:00:00'),\n",
       "    Timestamp('2016-08-30 00:00:00'),\n",
       "    Timestamp('2016-08-30 00:00:00'),\n",
       "    Timestamp('2016-08-30 00:00:00'),\n",
       "    Timestamp('2016-08-30 00:00:00'),\n",
       "    Timestamp('2016-08-30 00:00:00'),\n",
       "    Timestamp('2016-08-30 00:00:00'),\n",
       "    Timestamp('2016-08-31 00:00:00'),\n",
       "    Timestamp('2016-08-31 00:00:00'),\n",
       "    Timestamp('2016-08-31 00:00:00'),\n",
       "    Timestamp('2016-08-31 00:00:00'),\n",
       "    Timestamp('2016-08-31 00:00:00'),\n",
       "    Timestamp('2016-08-31 00:00:00'),\n",
       "    Timestamp('2016-09-06 00:00:00'),\n",
       "    Timestamp('2016-09-06 00:00:00'),\n",
       "    Timestamp('2016-09-06 00:00:00'),\n",
       "    Timestamp('2016-09-06 00:00:00'),\n",
       "    Timestamp('2016-09-06 00:00:00'),\n",
       "    Timestamp('2016-09-06 00:00:00')],\n",
       "   'y': [7.5700000000000003,\n",
       "    7.7199999999999998,\n",
       "    7.5899999999999999,\n",
       "    7.5899999999999999,\n",
       "    7.5899999999999999,\n",
       "    7.79,\n",
       "    7.4100000000000001,\n",
       "    7.6100000000000003,\n",
       "    7.4900000000000002,\n",
       "    7.4900000000000002,\n",
       "    7.4900000000000002,\n",
       "    7.6399999999999997,\n",
       "    7.2800000000000002,\n",
       "    7.5199999999999996,\n",
       "    7.4000000000000004,\n",
       "    7.4000000000000004,\n",
       "    7.4000000000000004,\n",
       "    7.5199999999999996,\n",
       "    7.25,\n",
       "    7.5599999999999996,\n",
       "    7.3399999999999999,\n",
       "    7.3399999999999999,\n",
       "    7.3399999999999999,\n",
       "    7.5999999999999996]}],\n",
       " 'layout': {'shapes': [{'line': {'color': 'rgb(60,60,60)', 'width': 1},\n",
       "    'x0': '2016-09-01',\n",
       "    'x1': '2016-09-01',\n",
       "    'xref': 'x',\n",
       "    'y0': 0,\n",
       "    'y1': 1,\n",
       "    'yref': 'paper'}],\n",
       "  'title': 'AMD',\n",
       "  'xaxis': {'title': 'Date'},\n",
       "  'yaxis': {'title': 'Price'}}}"
      ]
     },
     "execution_count": 37,
     "metadata": {},
     "output_type": "execute_result"
    }
   ],
   "source": [
    "## df=dl('amd',10)\n",
    "fig = FF.create_candlestick(df.Open, df.High, df.Low, df.Close, dates=df.index)\n",
    "fig\n",
    "fig['layout'].update({'title': 'AMD',\n",
    "                      'yaxis': {'title': 'Price'},\n",
    "                      'xaxis': {'title': 'Date'},\n",
    "                      'shapes': [{'x0': '2016-09-01', 'x1': '2016-09-01','y0':0,'y1':1, \n",
    "                                  'xref':'x','yref':'paper',\n",
    "                                  'line':{'color': 'rgb(60,60,60)','width':1}\n",
    "                                 }\n",
    "                                ]\n",
    "                      \n",
    "                     })\n",
    "fig\n",
    "#py.iplot(fig, validate=False)\n"
   ]
  },
  {
   "cell_type": "code",
   "execution_count": 38,
   "metadata": {
    "collapsed": false
   },
   "outputs": [
    {
     "data": {
      "text/html": [
       "<iframe id=\"igraph\" scrolling=\"no\" style=\"border:none;\" seamless=\"seamless\" src=\"https://plot.ly/~zluo/82.embed\" height=\"525px\" width=\"100%\"></iframe>"
      ],
      "text/plain": [
       "<plotly.tools.PlotlyDisplay object>"
      ]
     },
     "execution_count": 38,
     "metadata": {},
     "output_type": "execute_result"
    }
   ],
   "source": [
    "py.iplot(fig, validate=False)"
   ]
  },
  {
   "cell_type": "code",
   "execution_count": null,
   "metadata": {
    "collapsed": true
   },
   "outputs": [],
   "source": []
  }
 ],
 "metadata": {
  "anaconda-cloud": {},
  "kernelspec": {
   "display_name": "Python [Root]",
   "language": "python",
   "name": "Python [Root]"
  },
  "language_info": {
   "codemirror_mode": {
    "name": "ipython",
    "version": 2
   },
   "file_extension": ".py",
   "mimetype": "text/x-python",
   "name": "python",
   "nbconvert_exporter": "python",
   "pygments_lexer": "ipython2",
   "version": "2.7.12"
  }
 },
 "nbformat": 4,
 "nbformat_minor": 0
}
