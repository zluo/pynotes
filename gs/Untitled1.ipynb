{
 "cells": [
  {
   "cell_type": "markdown",
   "metadata": {},
   "source": [
    "## Finding The Maximum Profit In A Share Price Array"
   ]
  },
  {
   "cell_type": "code",
   "execution_count": 17,
   "metadata": {
    "collapsed": true
   },
   "outputs": [],
   "source": [
    "\n",
    "# given a strategy what buys the sharte at position index, what is the maximumn profit that can be achieved?\n",
    "def calculateProfit (A, index):\n",
    "    buying_price = A[index]\n",
    "    max_profit = 0\n",
    "    sell_at = index\n",
    "    for i in range(index+1, len(A)):\n",
    "        selling_price = A[i]\n",
    "        profit = selling_price - buying_price\n",
    "        if profit > max_profit:\n",
    "            max_profit = profit\n",
    "            sell_at = i\n",
    "    return max_profit, sell_at\n",
    "\n",
    "# check all possible buying times\n",
    "def fmax_brute_force(A):\n",
    "    max_profit = None\n",
    "    buy = None\n",
    "    sell = None\n",
    "    \n",
    "    for index, item in enumerate(A):\n",
    "        profit, sell_at = calculateProfit(A, index)\n",
    "        if (max_profit is None) or (profit > max_profit):\n",
    "            max_profit = profit\n",
    "            buy = index\n",
    "            sell = sell_at\n",
    "    return max_profit, buy, sell\n",
    "\n"
   ]
  },
  {
   "cell_type": "code",
   "execution_count": 18,
   "metadata": {
    "collapsed": true
   },
   "outputs": [],
   "source": [
    "def fmax_dandg(A):\n",
    "    pass\n"
   ]
  },
  {
   "cell_type": "code",
   "execution_count": 21,
   "metadata": {
    "collapsed": true
   },
   "outputs": [],
   "source": [
    "def fmax_sequential(A):\n",
    "\n",
    "    # minimum price seen so far\n",
    "    min = None\n",
    "\n",
    "    max_profit = None\n",
    "    buy = None\n",
    "    sell = None\n",
    "\n",
    "    for index, item in enumerate(A):\n",
    "\n",
    "        # sell at the minimum - update minimum seen so far\n",
    "        if (min is None) or (item < min):\n",
    "            min = item\n",
    "            buy = index\n",
    "\n",
    "        # buy at the maximum - update maximum seen so far\n",
    "        elif (max_profit is None) or (item - min) > max_profit:\n",
    "            max_profit = item - min\n",
    "            sell = index\n",
    "\n",
    "    return max_profit, buy, sell"
   ]
  },
  {
   "cell_type": "code",
   "execution_count": 24,
   "metadata": {
    "collapsed": false
   },
   "outputs": [
    {
     "name": "stdout",
     "output_type": "stream",
     "text": [
      "              Brute Force: (0.9999452335697858, 1483, 3209) after 1.5369999408721924\n",
      "           One-Pass Sweep: (0.9999452335697858, 3809, 3209) after 0.0\n",
      "       Divide and Conquer: None after 0.0\n"
     ]
    }
   ],
   "source": [
    "\n",
    "\n",
    "def selftest():\n",
    "    import random\n",
    "    import time\n",
    "    \n",
    "    A = [random.random() for i in range(5000)]\n",
    "    expected_result = None\n",
    "    \n",
    "    methods = {'Brute Force' : fmax_brute_force,\n",
    "               'Divide and Conquer' : fmax_dandg,\n",
    "               'One-Pass Sweep' : fmax_sequential}\n",
    "    \n",
    "    for method_name in methods.keys():\n",
    "        method = methods[method_name]\n",
    "        t0 = time.time()\n",
    "        result = method(A)\n",
    "        print \"%25s: %r after %r\" % (method_name, result, time.time() -t0,)\n",
    "        \n",
    "if __name__ == \"__main__\":\n",
    "    selftest()\n",
    "    "
   ]
  },
  {
   "cell_type": "code",
   "execution_count": null,
   "metadata": {
    "collapsed": true
   },
   "outputs": [],
   "source": []
  },
  {
   "cell_type": "code",
   "execution_count": null,
   "metadata": {
    "collapsed": true
   },
   "outputs": [],
   "source": []
  }
 ],
 "metadata": {
  "anaconda-cloud": {},
  "kernelspec": {
   "display_name": "Python [Root]",
   "language": "python",
   "name": "Python [Root]"
  },
  "language_info": {
   "codemirror_mode": {
    "name": "ipython",
    "version": 2
   },
   "file_extension": ".py",
   "mimetype": "text/x-python",
   "name": "python",
   "nbconvert_exporter": "python",
   "pygments_lexer": "ipython2",
   "version": "2.7.12"
  }
 },
 "nbformat": 4,
 "nbformat_minor": 0
}
