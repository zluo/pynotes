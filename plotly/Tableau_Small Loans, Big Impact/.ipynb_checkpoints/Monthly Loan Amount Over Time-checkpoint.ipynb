{
 "cells": [
  {
   "cell_type": "markdown",
   "metadata": {},
   "source": [
    "### Extract Data\n"
   ]
  },
  {
   "cell_type": "code",
   "execution_count": 134,
   "metadata": {
    "collapsed": false
   },
   "outputs": [],
   "source": [
    "import pandas as ps\n",
    "import plotly.plotly as py\n",
    "from plotly.graph_objs import *\n",
    "import datetime\n",
    "df = ps.read_csv('data/data1/Monthly_Loan.csv', encoding='utf-8-sig')\n",
    "#df.rename(columns=lambda x: x.rstrip(), inplace=True)\n",
    "#list(df.columns.values)\n",
    "\n",
    "male = df[(df['Gender']== 'Male')]\n",
    "female = df[(df['Gender']== 'Female')]\n",
    "\n",
    "x_data =[datetime.datetime.strptime(it, \"%m/%d/%y\").strftime(\"%y-%m\") for it in male['Month of Funded Date'].values]\n",
    "y_data = male['Loan Amount'].values\n",
    "\n",
    "x_data1 =[datetime.datetime.strptime(it, \"%m/%d/%y\").strftime(\"%y-%m\") for it in female['Month of Funded Date'].values]\n",
    "y_data1 = female['Loan Amount'].values"
   ]
  },
  {
   "cell_type": "markdown",
   "metadata": {},
   "source": [
    "### Plot"
   ]
  },
  {
   "cell_type": "code",
   "execution_count": 136,
   "metadata": {
    "collapsed": false
   },
   "outputs": [
    {
     "data": {
      "text/html": [
       "<iframe id=\"igraph\" scrolling=\"no\" style=\"border:none;\" seamless=\"seamless\" src=\"https://plot.ly/~zluo/157.embed\" height=\"525px\" width=\"100%\"></iframe>"
      ],
      "text/plain": [
       "<plotly.tools.PlotlyDisplay object>"
      ]
     },
     "execution_count": 136,
     "metadata": {},
     "output_type": "execute_result"
    }
   ],
   "source": [
    " mapbox_access_token = 'pk.eyJ1IjoiY2hlbHNlYXBsb3RseSIsImEiOiJjaXFqeXVzdDkwMHFrZnRtOGtlMGtwcGs4In0.SLidkdBMEap9POJGIe1eGw'\n",
    "\n",
    " data = Data([\n",
    "        Scatter(        \n",
    "        x=x_data,\n",
    "        y=y_data,\n",
    "        mode='lines',\n",
    "        fill='tonexty',\n",
    "        hoverinfo = 'x + y + name',\n",
    "        name ='Male',\n",
    "    ),\n",
    "       Scatter(\n",
    "        x=x_data1,\n",
    "        y=y_data1,\n",
    "        mode='lines',\n",
    "        fill='tonexty',\n",
    "        hoverinfo = 'x + y + name',\n",
    "        name ='Female',\n",
    "    ),    \n",
    "        \n",
    "])\n",
    "py.iplot(data)"
   ]
  }
 ],
 "metadata": {
  "kernelspec": {
   "display_name": "Python [Root]",
   "language": "python",
   "name": "Python [Root]"
  },
  "language_info": {
   "codemirror_mode": {
    "name": "ipython",
    "version": 2
   },
   "file_extension": ".py",
   "mimetype": "text/x-python",
   "name": "python",
   "nbconvert_exporter": "python",
   "pygments_lexer": "ipython2",
   "version": "2.7.12"
  }
 },
 "nbformat": 4,
 "nbformat_minor": 0
}
