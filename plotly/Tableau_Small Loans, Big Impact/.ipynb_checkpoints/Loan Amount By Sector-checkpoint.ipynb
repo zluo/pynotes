{
 "cells": [
  {
   "cell_type": "markdown",
   "metadata": {},
   "source": [
    "### Extract Data\n"
   ]
  },
  {
   "cell_type": "code",
   "execution_count": 9,
   "metadata": {
    "collapsed": false
   },
   "outputs": [
    {
     "name": "stdout",
     "output_type": "stream",
     "text": [
      "[u'Gender', u'Loan Sector', u'Loan Amount']\n",
      "   Gender     Loan Sector  Loan Amount\n",
      "0    Male       Wholesale       477575\n",
      "1    Male  Transportation      7549575\n",
      "2    Male        Services     12197175\n",
      "3    Male          Retail     17526675\n",
      "4    Male    Personal Use      1105950\n",
      "5    Male   Manufacturing      3240550\n",
      "6    Male         Housing      4334100\n",
      "7    Male          Health      1172925\n",
      "8    Male            Food     17252700\n",
      "9    Male   Entertainment       492450\n",
      "10   Male       Education      1962525\n",
      "11   Male    Construction      4754225\n",
      "12   Male        Clothing      4190100\n",
      "13   Male            Arts      1158875\n",
      "14   Male     Agriculture     29647875\n"
     ]
    }
   ],
   "source": [
    "import pandas as ps\n",
    "import plotly.plotly as py\n",
    "from plotly.graph_objs import *\n",
    "import datetime\n",
    "df = ps.read_csv('data/data1/Loan_By_Sector.csv', encoding='utf-8-sig')\n",
    "df['Loan Amount'] = df['Loan Amount'].apply(lambda x: int(str(x)[1:].replace(',', '')))\n",
    "print list(df.columns.values)\n",
    "\n",
    "male = df[(df['Gender']== 'Male')]\n",
    "female = df[(df['Gender']== 'Female')]\n",
    "\n",
    "print male"
   ]
  },
  {
   "cell_type": "markdown",
   "metadata": {},
   "source": [
    "### Plot"
   ]
  },
  {
   "cell_type": "code",
   "execution_count": 19,
   "metadata": {
    "collapsed": false
   },
   "outputs": [
    {
     "data": {
      "text/html": [
       "<iframe id=\"igraph\" scrolling=\"no\" style=\"border:none;\" seamless=\"seamless\" src=\"https://plot.ly/~zluo/181.embed\" height=\"525px\" width=\"100%\"></iframe>"
      ],
      "text/plain": [
       "<plotly.tools.PlotlyDisplay object>"
      ]
     },
     "execution_count": 19,
     "metadata": {},
     "output_type": "execute_result"
    }
   ],
   "source": [
    "mapbox_access_token = 'pk.eyJ1IjoiY2hlbHNlYXBsb3RseSIsImEiOiJjaXFqeXVzdDkwMHFrZnRtOGtlMGtwcGs4In0.SLidkdBMEap9POJGIe1eGw'\n",
    "\n",
    "import plotly.plotly as py\n",
    "import plotly.graph_objs as go\n",
    "\n",
    "fig = {\n",
    "  \"data\": [\n",
    "    {\n",
    "      \"values\": male['Loan Amount'].values,\n",
    "      \"labels\": male['Loan Sector'].values,\n",
    "      \"text\":\"Male\",\n",
    "      \"textposition\":\"inside\",\n",
    "      \"domain\": {\"x\": [0, .48]},\n",
    "      \"name\": \"Male\",\n",
    "      \"hoverinfo\":\"label+percent+name\",\n",
    "      \"hole\": .3,\n",
    "      \"type\": \"pie\"\n",
    "    },     \n",
    "    {\n",
    "      \"values\": female['Loan Amount'].values,\n",
    "      \"labels\": male['Loan Sector'].values,\n",
    "      \"text\":\"Female\",\n",
    "      \"textposition\":\"inside\",\n",
    "      \"domain\": {\"x\": [.52, 1]},\n",
    "      \"name\": \"Female\",\n",
    "      \"hoverinfo\":\"label+percent+name\",\n",
    "      \"hole\": .3,\n",
    "      \"type\": \"pie\"\n",
    "    }],\n",
    "  \"layout\": {\n",
    "        \"title\":\"Loan Amount by Sector\",\n",
    "        \"annotations\": [\n",
    "            {\n",
    "                \"font\": {\n",
    "                    \"size\": 20\n",
    "                },\n",
    "                \"showarrow\": False,\n",
    "                \"text\": \"MALE\",\n",
    "                \"x\": 0.20,\n",
    "                \"y\": 0.5\n",
    "            },\n",
    "            {\n",
    "                \"font\": {\n",
    "                    \"size\": 20\n",
    "                },\n",
    "                \"showarrow\": False,\n",
    "                \"text\": \"FEMALE\",\n",
    "                \"x\": 0.82,\n",
    "                \"y\": 0.5\n",
    "            }\n",
    "        ]\n",
    "    }\n",
    "}\n",
    "py.iplot(fig)"
   ]
  },
  {
   "cell_type": "code",
   "execution_count": null,
   "metadata": {
    "collapsed": true
   },
   "outputs": [],
   "source": []
  }
 ],
 "metadata": {
  "anaconda-cloud": {},
  "kernelspec": {
   "display_name": "Python [Root]",
   "language": "python",
   "name": "Python [Root]"
  },
  "language_info": {
   "codemirror_mode": {
    "name": "ipython",
    "version": 2
   },
   "file_extension": ".py",
   "mimetype": "text/x-python",
   "name": "python",
   "nbconvert_exporter": "python",
   "pygments_lexer": "ipython2",
   "version": "2.7.12"
  }
 },
 "nbformat": 4,
 "nbformat_minor": 0
}
