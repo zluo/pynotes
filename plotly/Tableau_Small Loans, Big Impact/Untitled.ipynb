{
 "cells": [
  {
   "cell_type": "code",
   "execution_count": 4,
   "metadata": {
    "collapsed": false
   },
   "outputs": [
    {
     "name": "stdout",
     "output_type": "stream",
     "text": [
      "['\\xef\\xbb\\xbfCountry', 'Gender', 'Latitude (generated)', 'Longitude (generated)', 'Loan Amount']\n"
     ]
    }
   ],
   "source": [
    "import pandas as pd\n",
    "import plotly.plotly as py\n",
    "from plotly.graph_objs import *\n",
    "import datetime\n",
    "df = pd.read_csv('data/data1/Map_data.csv')\n",
    "male = df[(df['Gender']== 'Male')]\n",
    "female = df[(df['Gender']== 'Female')]\n",
    "male\n",
    "print list(df.columns.values)"
   ]
  },
  {
   "cell_type": "code",
   "execution_count": 7,
   "metadata": {
    "collapsed": true
   },
   "outputs": [],
   "source": [
    "lat_data =male['Latitude (generated)']\n",
    "lon_data = male['Longitude (generated)']\n",
    "lat_data1 =female['Latitude (generated)']\n",
    "lon_data1 =female['Longitude (generated)']\n",
    "text_data = male['Loan Amount']\n",
    "text_data1 = female['Loan Amount']"
   ]
  },
  {
   "cell_type": "code",
   "execution_count": 8,
   "metadata": {
    "collapsed": false
   },
   "outputs": [
    {
     "data": {
      "text/html": [
       "<iframe id=\"igraph\" scrolling=\"no\" style=\"border:none;\" seamless=\"seamless\" src=\"https://plot.ly/~zluo/128.embed\" height=\"525px\" width=\"100%\"></iframe>"
      ],
      "text/plain": [
       "<plotly.tools.PlotlyDisplay object>"
      ]
     },
     "execution_count": 8,
     "metadata": {},
     "output_type": "execute_result"
    }
   ],
   "source": [
    "mapbox_access_token = 'pk.eyJ1IjoiY2hlbHNlYXBsb3RseSIsImEiOiJjaXFqeXVzdDkwMHFrZnRtOGtlMGtwcGs4In0.SLidkdBMEap9POJGIe1eGw'\n",
    "\n",
    "data = Data([\n",
    "    Scattermapbox(\n",
    "        lat=lat_data,\n",
    "        lon=lon_data,\n",
    "        mode='markers',\n",
    "        marker=Marker(\n",
    "            size=4\n",
    "        ),\n",
    "        text=text_data,\n",
    "    )\n",
    "])\n",
    "layout = Layout(\n",
    "    autosize=True,\n",
    "    hovermode='closest',\n",
    "    mapbox=dict(\n",
    "        accesstoken=mapbox_access_token,\n",
    "        bearing=0,\n",
    "        center=dict(\n",
    "            lat=45,\n",
    "            lon=-73\n",
    "        ),\n",
    "        pitch=0,\n",
    "        zoom=5\n",
    "    ),\n",
    ")\n",
    "\n",
    "fig = dict(data=data, layout=layout)\n",
    "py.iplot(fig, filename='Montreal Mapbox', validate=False)"
   ]
  },
  {
   "cell_type": "code",
   "execution_count": null,
   "metadata": {
    "collapsed": true
   },
   "outputs": [],
   "source": []
  }
 ],
 "metadata": {
  "kernelspec": {
   "display_name": "Python [Root]",
   "language": "python",
   "name": "Python [Root]"
  },
  "language_info": {
   "codemirror_mode": {
    "name": "ipython",
    "version": 2
   },
   "file_extension": ".py",
   "mimetype": "text/x-python",
   "name": "python",
   "nbconvert_exporter": "python",
   "pygments_lexer": "ipython2",
   "version": "2.7.12"
  }
 },
 "nbformat": 4,
 "nbformat_minor": 0
}
