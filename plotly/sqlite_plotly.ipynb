{
 "cells": [
  {
   "cell_type": "markdown",
   "metadata": {},
   "source": [
    "### sqlite"
   ]
  },
  {
   "cell_type": "code",
   "execution_count": 1,
   "metadata": {
    "collapsed": true
   },
   "outputs": [],
   "source": [
    "import pandas as pd\n",
    "from sqlalchemy import create_engine\n",
    "from IPython.display import display\n",
    "import plotly.plotly as py\n",
    "from plotly.graph_objs import Bar, Scatter,Marker,Layout"
   ]
  },
  {
   "cell_type": "code",
   "execution_count": 5,
   "metadata": {
    "collapsed": false
   },
   "outputs": [],
   "source": [
    "disk_engine = create_engine('sqlite:///data/turbine.db')"
   ]
  },
  {
   "cell_type": "code",
   "execution_count": 6,
   "metadata": {
    "collapsed": true
   },
   "outputs": [],
   "source": [
    "df = pd.read_sql_query('Select * from data limit 3', disk_engine)"
   ]
  },
  {
   "cell_type": "code",
   "execution_count": 7,
   "metadata": {
    "collapsed": false
   },
   "outputs": [
    {
     "data": {
      "text/html": [
       "<div>\n",
       "<table border=\"1\" class=\"dataframe\">\n",
       "  <thead>\n",
       "    <tr style=\"text-align: right;\">\n",
       "      <th></th>\n",
       "      <th>FID</th>\n",
       "      <th>unique_id</th>\n",
       "      <th>site_name</th>\n",
       "      <th>total_turb</th>\n",
       "      <th>on_year</th>\n",
       "      <th>year_range</th>\n",
       "      <th>on_year_s</th>\n",
       "      <th>manufac</th>\n",
       "      <th>model</th>\n",
       "      <th>type_tower</th>\n",
       "      <th>...</th>\n",
       "      <th>conf_attr</th>\n",
       "      <th>conf_loc</th>\n",
       "      <th>WENDI_name</th>\n",
       "      <th>EIA_name</th>\n",
       "      <th>FAA_jdate</th>\n",
       "      <th>FAA_AGL</th>\n",
       "      <th>FAA_ORS</th>\n",
       "      <th>image_name</th>\n",
       "      <th>image_year</th>\n",
       "      <th>comments</th>\n",
       "    </tr>\n",
       "  </thead>\n",
       "  <tbody>\n",
       "    <tr>\n",
       "      <th>0</th>\n",
       "      <td>0</td>\n",
       "      <td>982</td>\n",
       "      <td>unknown Gilliam County</td>\n",
       "      <td>2</td>\n",
       "      <td>unknown</td>\n",
       "      <td>unknown</td>\n",
       "      <td>-99999</td>\n",
       "      <td>unknown</td>\n",
       "      <td>unknown</td>\n",
       "      <td>unknown</td>\n",
       "      <td>...</td>\n",
       "      <td>0</td>\n",
       "      <td>0</td>\n",
       "      <td>unknown</td>\n",
       "      <td>unknown</td>\n",
       "      <td>2013192</td>\n",
       "      <td>124.09</td>\n",
       "      <td>41-020577</td>\n",
       "      <td>Bing Maps Aerial</td>\n",
       "      <td>unknown</td>\n",
       "      <td>FAA lists as Dismantle, google temporal analys...</td>\n",
       "    </tr>\n",
       "    <tr>\n",
       "      <th>1</th>\n",
       "      <td>1</td>\n",
       "      <td>1065</td>\n",
       "      <td>unknown Gilliam County</td>\n",
       "      <td>2</td>\n",
       "      <td>unknown</td>\n",
       "      <td>unknown</td>\n",
       "      <td>-99999</td>\n",
       "      <td>unknown</td>\n",
       "      <td>unknown</td>\n",
       "      <td>unknown</td>\n",
       "      <td>...</td>\n",
       "      <td>0</td>\n",
       "      <td>0</td>\n",
       "      <td>unknown</td>\n",
       "      <td>unknown</td>\n",
       "      <td>2013192</td>\n",
       "      <td>124.09</td>\n",
       "      <td>41-020578</td>\n",
       "      <td>Bing Maps Aerial</td>\n",
       "      <td>unknown</td>\n",
       "      <td>FAA lists as Dismantle, google temporal analys...</td>\n",
       "    </tr>\n",
       "    <tr>\n",
       "      <th>2</th>\n",
       "      <td>2</td>\n",
       "      <td>1895</td>\n",
       "      <td>Banner Wind Project</td>\n",
       "      <td>2</td>\n",
       "      <td>2008</td>\n",
       "      <td>no</td>\n",
       "      <td>2008</td>\n",
       "      <td>Entegrity</td>\n",
       "      <td>EW50</td>\n",
       "      <td>trestle</td>\n",
       "      <td>...</td>\n",
       "      <td>2</td>\n",
       "      <td>2</td>\n",
       "      <td>Banner Wind Project</td>\n",
       "      <td>unknown</td>\n",
       "      <td>2009065</td>\n",
       "      <td>38.72</td>\n",
       "      <td>02-020064</td>\n",
       "      <td>Bing Maps Aerial</td>\n",
       "      <td>unknown</td>\n",
       "      <td>trestle turbines removed, new monopoles instal...</td>\n",
       "    </tr>\n",
       "  </tbody>\n",
       "</table>\n",
       "<p>3 rows × 32 columns</p>\n",
       "</div>"
      ],
      "text/plain": [
       "  FID unique_id               site_name total_turb  on_year year_range  \\\n",
       "0   0       982  unknown Gilliam County          2  unknown    unknown   \n",
       "1   1      1065  unknown Gilliam County          2  unknown    unknown   \n",
       "2   2      1895     Banner Wind Project          2     2008         no   \n",
       "\n",
       "  on_year_s    manufac    model type_tower  \\\n",
       "0    -99999    unknown  unknown    unknown   \n",
       "1    -99999    unknown  unknown    unknown   \n",
       "2      2008  Entegrity     EW50    trestle   \n",
       "\n",
       "                         ...                         conf_attr conf_loc  \\\n",
       "0                        ...                                 0        0   \n",
       "1                        ...                                 0        0   \n",
       "2                        ...                                 2        2   \n",
       "\n",
       "            WENDI_name EIA_name FAA_jdate FAA_AGL    FAA_ORS  \\\n",
       "0              unknown  unknown   2013192  124.09  41-020577   \n",
       "1              unknown  unknown   2013192  124.09  41-020578   \n",
       "2  Banner Wind Project  unknown   2009065   38.72  02-020064   \n",
       "\n",
       "         image_name image_year  \\\n",
       "0  Bing Maps Aerial    unknown   \n",
       "1  Bing Maps Aerial    unknown   \n",
       "2  Bing Maps Aerial    unknown   \n",
       "\n",
       "                                            comments  \n",
       "0  FAA lists as Dismantle, google temporal analys...  \n",
       "1  FAA lists as Dismantle, google temporal analys...  \n",
       "2  trestle turbines removed, new monopoles instal...  \n",
       "\n",
       "[3 rows x 32 columns]"
      ]
     },
     "execution_count": 7,
     "metadata": {},
     "output_type": "execute_result"
    }
   ],
   "source": [
    "df"
   ]
  },
  {
   "cell_type": "code",
   "execution_count": null,
   "metadata": {
    "collapsed": true
   },
   "outputs": [],
   "source": []
  }
 ],
 "metadata": {
  "anaconda-cloud": {},
  "kernelspec": {
   "display_name": "Python [Root]",
   "language": "python",
   "name": "Python [Root]"
  },
  "language_info": {
   "codemirror_mode": {
    "name": "ipython",
    "version": 2
   },
   "file_extension": ".py",
   "mimetype": "text/x-python",
   "name": "python",
   "nbconvert_exporter": "python",
   "pygments_lexer": "ipython2",
   "version": "2.7.12"
  }
 },
 "nbformat": 4,
 "nbformat_minor": 0
}
