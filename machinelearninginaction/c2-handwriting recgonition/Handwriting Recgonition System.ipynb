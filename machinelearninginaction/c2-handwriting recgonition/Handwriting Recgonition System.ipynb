{
 "cells": [
  {
   "cell_type": "markdown",
   "metadata": {},
   "source": [
    "# 2. 3 A Handwriting Recgonition System\n",
    "\n",
    "1. Collect: Text file provided\n",
    "2. Prepare: Write a function to convert from the image format to the list format\n",
    "3. Analyze: \n",
    "4. Train: N/A\n",
    "5. Test: \n"
   ]
  },
  {
   "cell_type": "markdown",
   "metadata": {},
   "source": [
    "## 2.3.1 Prepare"
   ]
  },
  {
   "cell_type": "code",
   "execution_count": 19,
   "metadata": {
    "collapsed": true
   },
   "outputs": [],
   "source": [
    "import numpy as np\n",
    "from os import listdir\n",
    "import operator"
   ]
  },
  {
   "cell_type": "code",
   "execution_count": 1,
   "metadata": {
    "collapsed": true
   },
   "outputs": [],
   "source": [
    "def img2vector(filename):\n",
    "    returnVect = np.zeros((1,1024))\n",
    "    fr = open(filename)\n",
    "    for i in range(32):\n",
    "        lineStr = fr.readline()\n",
    "        for j in range(32):\n",
    "            returnVect[0, 32*i+j] = int(lineStr[j])\n",
    "    return returnVect"
   ]
  },
  {
   "cell_type": "code",
   "execution_count": 4,
   "metadata": {
    "collapsed": false
   },
   "outputs": [
    {
     "data": {
      "text/plain": [
       "array([ 0.,  0.,  0.,  0.,  0.,  0.,  0.,  0.,  0.,  0.,  0.,  0.,  0.,\n",
       "        0.,  1.,  1.,  1.,  1.,  0.,  0.,  0.,  0.,  0.,  0.,  0.,  0.,\n",
       "        0.,  0.,  0.,  0.,  0.])"
      ]
     },
     "execution_count": 4,
     "metadata": {},
     "output_type": "execute_result"
    }
   ],
   "source": [
    "testVector = img2vector('testDigits/0_13.txt')\n",
    "testVector[0,0:31]"
   ]
  },
  {
   "cell_type": "code",
   "execution_count": 5,
   "metadata": {
    "collapsed": false
   },
   "outputs": [
    {
     "data": {
      "text/plain": [
       "array([ 0.,  0.,  0.,  0.,  0.,  0.,  0.,  0.,  0.,  0.,  0.,  0.,  1.,\n",
       "        1.,  1.,  1.,  1.,  1.,  1.,  0.,  0.,  0.,  0.,  0.,  0.,  0.,\n",
       "        0.,  0.,  0.,  0.,  0.])"
      ]
     },
     "execution_count": 5,
     "metadata": {},
     "output_type": "execute_result"
    }
   ],
   "source": [
    "testVector[0, 32:63]"
   ]
  },
  {
   "cell_type": "code",
   "execution_count": 25,
   "metadata": {
    "collapsed": true
   },
   "outputs": [],
   "source": [
    "def init(dir):\n",
    "    labels = []\n",
    "    trainingFileList = listdir(dir)\n",
    "    m = len(trainingFileList)\n",
    "    mat = np.zeros((m, 1024))\n",
    "    for i in range(m):\n",
    "        fileNameStr = trainingFileList[i]\n",
    "        fileStr = fileNameStr.split('.')[0]\n",
    "        classNumStr = int(fileStr.split('_')[0])\n",
    "        labels.append(classNumStr)\n",
    "        mat[i] = img2vector('%s/%s' % (dir,fileNameStr))\n",
    "    return labels, mat\n",
    "\n",
    "def handwritingClassTest():\n",
    "    hwLabels, trainMat = init('trainingDigits')\n",
    "    testLabels, testMat = init('testDigits')\n",
    "    errorCount = 0\n",
    "    for i in range(len(testLabels)):\n",
    "        res = classify0(testMat[i], trainMat, hwLabels, 3)\n",
    "        if (res != testLabels[i]):\n",
    "            print(\"\\n [%d] Real: %d, Machine: %d\" % (i, testLabels[i], res))\n",
    "            errorCount += 1\n",
    "    print(\"Total Errors: %d/%d\" % (errorCount, len(testLabels)))\n",
    "            \n",
    "# near k elements\n",
    "def classify0(inX, dataSet, labels, k):\n",
    "    dataSetSize = dataSet.shape[0]\n",
    "    diffMat = np.tile(inX, (dataSetSize,1)) - dataSet\n",
    "    sqDiffMat = diffMat**2\n",
    "    sqDistances = sqDiffMat.sum(axis=1)\n",
    "    distances = sqDistances**0.5\n",
    "    sortedDistIndicies = distances.argsort()     \n",
    "    classCount={}          \n",
    "    for i in range(k):\n",
    "        voteIlabel = labels[sortedDistIndicies[i]]\n",
    "        classCount[voteIlabel] = classCount.get(voteIlabel,0) + 1\n",
    "    sortedClassCount = sorted(classCount.iteritems(), key=operator.itemgetter(1), reverse=True)\n",
    "    return sortedClassCount[0][0] \n",
    "    \n",
    "\n",
    "    \n",
    "    \n",
    "    "
   ]
  },
  {
   "cell_type": "code",
   "execution_count": 26,
   "metadata": {
    "collapsed": false
   },
   "outputs": [
    {
     "name": "stdout",
     "output_type": "stream",
     "text": [
      "\n",
      " [172] Real: 1, Machine: 7\n",
      "\n",
      " [279] Real: 3, Machine: 9\n",
      "\n",
      " [327] Real: 3, Machine: 9\n",
      "\n",
      " [520] Real: 5, Machine: 3\n",
      "\n",
      " [521] Real: 5, Machine: 6\n",
      "\n",
      " [769] Real: 8, Machine: 6\n",
      "\n",
      " [782] Real: 8, Machine: 3\n",
      "\n",
      " [796] Real: 8, Machine: 1\n",
      "\n",
      " [806] Real: 8, Machine: 1\n",
      "\n",
      " [863] Real: 9, Machine: 1\n",
      "\n",
      " [914] Real: 9, Machine: 7\n",
      "Total Errors: 11/946\n"
     ]
    }
   ],
   "source": [
    "handwritingClassTest()"
   ]
  },
  {
   "cell_type": "code",
   "execution_count": null,
   "metadata": {
    "collapsed": true
   },
   "outputs": [],
   "source": [
    "\n"
   ]
  }
 ],
 "metadata": {
  "kernelspec": {
   "display_name": "Python 2",
   "language": "python",
   "name": "python2"
  },
  "language_info": {
   "codemirror_mode": {
    "name": "ipython",
    "version": 2
   },
   "file_extension": ".py",
   "mimetype": "text/x-python",
   "name": "python",
   "nbconvert_exporter": "python",
   "pygments_lexer": "ipython2",
   "version": "2.7.11"
  }
 },
 "nbformat": 4,
 "nbformat_minor": 0
}
