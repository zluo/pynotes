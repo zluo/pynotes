{
 "cells": [
  {
   "cell_type": "markdown",
   "metadata": {},
   "source": [
    "## 6.1 Overview\n",
    "1. Introducing support vector machine\n",
    "2. \n",
    "\n",
    "Pros:\n",
    "\n",
    "Cons:\n",
    "\n",
    "Works with: Numeric values, nominal values\n",
    "\n",
    "### Some terms:\n",
    "separating hyperplane  N-1 dimensions is called hyperplane. The hyperplane is our decision boundary.\n",
    "\n",
    "margin\n",
    "### 6.2 Finding the maximum margin\n",
    "$$|w^T+b|/||w|| $$\n",
    "\n",
    "\n",
    "Heaviside step function\n",
    "$$f(w^T+b)$$, where f(u) gives us -1 if u<0, and 1 otherwise.\n",
    "\n",
    "The goal is find the points with the smallest margin. Then when we find the smallest margin, we must maximize that margin.\n",
    "\n",
    "$$arg max{min(label.(w^T+b)).1/||w||}$$"
   ]
  },
  {
   "cell_type": "code",
   "execution_count": null,
   "metadata": {
    "collapsed": true
   },
   "outputs": [],
   "source": []
  }
 ],
 "metadata": {
  "kernelspec": {
   "display_name": "Python 3",
   "language": "python",
   "name": "python3"
  },
  "language_info": {
   "codemirror_mode": {
    "name": "ipython",
    "version": 3
   },
   "file_extension": ".py",
   "mimetype": "text/x-python",
   "name": "python",
   "nbconvert_exporter": "python",
   "pygments_lexer": "ipython3",
   "version": "3.5.1"
  }
 },
 "nbformat": 4,
 "nbformat_minor": 0
}
