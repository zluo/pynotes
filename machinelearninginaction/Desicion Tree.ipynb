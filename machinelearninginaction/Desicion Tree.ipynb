{
 "cells": [
  {
   "cell_type": "markdown",
   "metadata": {},
   "source": [
    "# Desicion Tree\n"
   ]
  },
  {
   "cell_type": "markdown",
   "metadata": {},
   "source": [
    "$${H} (X)=-\\sum _{i=1}^{n}{{P} (x_{i})\\log _{b} {P} (x_{i})}$$\n"
   ]
  },
  {
   "cell_type": "code",
   "execution_count": 9,
   "metadata": {
    "collapsed": true
   },
   "outputs": [],
   "source": [
    "import collections\n",
    "from math import log\n",
    "\n",
    "'''\n",
    "Calculate Shanno Entropy\n",
    "\n",
    "The higher the entropy, the more mixed up the data is.\n",
    "'''\n",
    "def calcShannonEnt(dataSet):\n",
    "    n = len(dataSet)\n",
    "    labelCounts = collections.defaultdict(int)\n",
    "    for featVec in dataSet:\n",
    "        currentLabel = featVec[-1]\n",
    "        labelCounts[currentLabel] +=1\n",
    "    shannonEnt = 0.0\n",
    "    for key in labelCounts:\n",
    "        prob = float(labelCounts[key])/n\n",
    "        shannonEnt -= prob * log(prob,2)\n",
    "    return shannonEnt\n",
    "    \n",
    "\n",
    "def splitDataSet(dataSet, axis, value):\n",
    "    retDataSet = []\n",
    "    for featVec in dataSet:\n",
    "        if featVec[axis] == value:\n",
    "            reducedFeatVec = featVec[:axis]\n",
    "            reducedFeatVec.extend(featVec[axis+1 :])\n",
    "            retDataSet.append(reducedFeatVec)\n",
    "    return retDataSet\n",
    "        \n",
    "\n",
    "def chooseBestFeatureToSplit(dataSet):\n",
    "    numFeatures = len(dataSet[0]) -1\n",
    "    baseEntropy = calcShannonEnt(dataSet)\n",
    "    bestInfoGain = 0.0\n",
    "    bestFeature = -1\n",
    "    for i in range(numFeatures):\n",
    "        featList = [example[i] for example in dataSet]\n",
    "        uniqueVals = set(featList)\n",
    "        newEntropy = 0.0\n",
    "        for value in uniqueVals:\n",
    "            subDataSet = splitDataSet(dataSet, i, value)\n",
    "            prob = len(subDataSet)/float(len(dataSet))\n",
    "            newEntropy += prob * clacShannoEnt(subDataSet)\n",
    "            if (infoGain > bestInfoGain):\n",
    "                bestInfoGain = infoGain\n",
    "                bestFeature = I\n",
    "    return bestFeature\n",
    "        \n",
    "\n",
    "def createDataSet():\n",
    "    dataSet = [[1,1,'yes'],\n",
    "              [1,1,'yes'],\n",
    "              [1,0,'no'],\n",
    "              [0,1,'no'],\n",
    "              [0,1,'no']]\n",
    "    labels = ['no surfacing', 'flippers']\n",
    "    return dataSet, labels"
   ]
  },
  {
   "cell_type": "code",
   "execution_count": 10,
   "metadata": {
    "collapsed": true
   },
   "outputs": [],
   "source": [
    "myDat, labels = createDataSet()\n",
    "\n",
    "calcShannonEnt(myDat)"
   ]
  },
  {
   "cell_type": "code",
   "execution_count": 15,
   "metadata": {
    "collapsed": false
   },
   "outputs": [
    {
     "data": {
      "text/plain": [
       "2.321928094887362"
      ]
     },
     "execution_count": 15,
     "metadata": {},
     "output_type": "execute_result"
    }
   ],
   "source": [
    "myDat = dataSet = [[1,1,'maybe'],\n",
    "              [1,1,'yes'],\n",
    "              [1,0,'no'],\n",
    "              [0,1,'ok'],\n",
    "              [0,1,'jo']]\n",
    "calcShannonEnt(myDat)"
   ]
  },
  {
   "cell_type": "code",
   "execution_count": 17,
   "metadata": {
    "collapsed": false
   },
   "outputs": [
    {
     "data": {
      "text/plain": [
       "0.7219280948873623"
      ]
     },
     "execution_count": 17,
     "metadata": {},
     "output_type": "execute_result"
    }
   ],
   "source": [
    "myDat = dataSet = [[1,1,'yes'],\n",
    "              [1,1,'yes'],\n",
    "              [1,0,'yes'],\n",
    "              [0,1,'yes'],\n",
    "              [0,1,'no']]\n",
    "calcShannonEnt(myDat)"
   ]
  },
  {
   "cell_type": "code",
   "execution_count": 22,
   "metadata": {
    "collapsed": false
   },
   "outputs": [],
   "source": [
    "dataSet1 = [[1,2,'yes'],\n",
    "              [3,4,'yes'],\n",
    "              [5,6,'yes'],\n",
    "              [7,8,'yes'],\n",
    "              [9,10,'no']]\n",
    "numFeatures = len(dataSet[0]) -1\n",
    "baseEntropy = calcShannonEnt(dataSet)\n",
    "bestInfoGain = 0.0\n",
    "bestFeature = -1\n",
    "for i in range(numFeatures):\n",
    "    featList = [example[i] for example in dataSet1]"
   ]
  },
  {
   "cell_type": "code",
   "execution_count": 23,
   "metadata": {
    "collapsed": false
   },
   "outputs": [
    {
     "data": {
      "text/plain": [
       "[2, 4, 6, 8, 10]"
      ]
     },
     "execution_count": 23,
     "metadata": {},
     "output_type": "execute_result"
    }
   ],
   "source": [
    "featList\n"
   ]
  },
  {
   "cell_type": "code",
   "execution_count": null,
   "metadata": {
    "collapsed": true
   },
   "outputs": [],
   "source": []
  }
 ],
 "metadata": {
  "kernelspec": {
   "display_name": "Python 2",
   "language": "python",
   "name": "python2"
  },
  "language_info": {
   "codemirror_mode": {
    "name": "ipython",
    "version": 2
   },
   "file_extension": ".py",
   "mimetype": "text/x-python",
   "name": "python",
   "nbconvert_exporter": "python",
   "pygments_lexer": "ipython2",
   "version": "2.7.11"
  }
 },
 "nbformat": 4,
 "nbformat_minor": 0
}
