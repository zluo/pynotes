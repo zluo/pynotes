{
 "cells": [
  {
   "cell_type": "code",
   "execution_count": 1,
   "metadata": {
    "collapsed": true
   },
   "outputs": [],
   "source": [
    "import matplotlib.pyplot as plt\n",
    "from matplotlib.dates import DateFormatter, WeekdayLocator,\\\n",
    "    DayLocator, MONDAY\n",
    "from matplotlib.finance import quotes_historical_yahoo_ohlc, candlestick_ohlc\n",
    "\n",
    "\n",
    "# (Year, month, day) tuples suffice as args for quotes_historical_yahoo\n",
    "date1 = (2004, 2, 1)\n",
    "date2 = (2004, 4, 12)\n",
    "\n",
    "\n",
    "mondays = WeekdayLocator(MONDAY)        # major ticks on the mondays\n",
    "alldays = DayLocator()              # minor ticks on the days\n",
    "weekFormatter = DateFormatter('%b %d')  # e.g., Jan 12\n",
    "dayFormatter = DateFormatter('%d')      # e.g., 12\n",
    "\n",
    "quotes = quotes_historical_yahoo_ohlc('INTC', date1, date2)\n",
    "if len(quotes) == 0:\n",
    "    raise SystemExit\n",
    "\n",
    "fig, ax = plt.subplots()\n",
    "fig.subplots_adjust(bottom=0.2)\n",
    "ax.xaxis.set_major_locator(mondays)\n",
    "ax.xaxis.set_minor_locator(alldays)\n",
    "ax.xaxis.set_major_formatter(weekFormatter)\n",
    "#ax.xaxis.set_minor_formatter(dayFormatter)\n",
    "\n",
    "#plot_day_summary(ax, quotes, ticksize=3)\n",
    "candlestick_ohlc(ax, quotes, width=0.6)\n",
    "\n",
    "ax.xaxis_date()\n",
    "ax.autoscale_view()\n",
    "plt.setp(plt.gca().get_xticklabels(), rotation=45, horizontalalignment='right')\n",
    "\n",
    "plt.show()"
   ]
  },
  {
   "cell_type": "code",
   "execution_count": null,
   "metadata": {
    "collapsed": true
   },
   "outputs": [],
   "source": []
  }
 ],
 "metadata": {
  "kernelspec": {
   "display_name": "Python 3",
   "language": "python",
   "name": "python3"
  },
  "language_info": {
   "codemirror_mode": {
    "name": "ipython",
    "version": 3
   },
   "file_extension": ".py",
   "mimetype": "text/x-python",
   "name": "python",
   "nbconvert_exporter": "python",
   "pygments_lexer": "ipython3",
   "version": "3.5.1"
  }
 },
 "nbformat": 4,
 "nbformat_minor": 0
}
